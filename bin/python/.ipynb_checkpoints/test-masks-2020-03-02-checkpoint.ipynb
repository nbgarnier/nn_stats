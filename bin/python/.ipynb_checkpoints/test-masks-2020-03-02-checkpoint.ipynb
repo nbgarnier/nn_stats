{
 "cells": [
  {
   "cell_type": "code",
   "execution_count": 1,
   "metadata": {},
   "outputs": [],
   "source": [
    "# -*- coding: ascii -*-\n",
    "\n",
    "from numpy.random import normal # http://docs.scipy.org/doc/numpy/reference/generated/numpy.random.normal.html\n",
    "import numpy\n",
    "#from scipy.stats.stats import pearsonr  # will give *normalized* correlation coefficient\n",
    "numpy.random.seed(1234)\n",
    "pi = numpy.pi\n",
    "\n",
    "from time import time\n",
    "\n",
    "#import sys\n",
    "#print(sys.version)\n",
    "\n",
    "# note, 2017-11-29:\n",
    "# pour compiler la librairie cython sans warnings sur les differentes versions des librairies:\n",
    "# export MACOSX_DEPLOYMENT_TARGET=10.6\n",
    "\n",
    "# note, 2020-02-22:\n",
    "# the correct ordering for data is now:\n",
    "# - nx:   components (dimensionality) as first dimension\n",
    "# - npts: time as second dimension\n",
    "# so shape = (nx, npts)\n",
    "\n",
    "#import entropy_ann as ann # Cython version, old\n",
    "import entropy.entropy as entropy       # Cython version, new 2020-02-22\n",
    "import tools\n",
    "#help(tools)\n",
    "#print(dir(tools))"
   ]
  },
  {
   "cell_type": "code",
   "execution_count": 2,
   "metadata": {},
   "outputs": [],
   "source": [
    "def print_result(message, value_from_function):\n",
    "#    time1=time()\n",
    "#    value_from_function=function\n",
    "#    time2=time()-time1\n",
    "    print(message, \"\\t%2.5f\" %value_from_function, end=\"\")\n",
    "    tmp=entropy.get_last_info()\n",
    "    print(\" +/- %2.5f (%d effective points, %d errors)\" %(tmp[0], tmp[3], tmp[2]), end=\"\")"
   ]
  },
  {
   "cell_type": "code",
   "execution_count": 3,
   "metadata": {},
   "outputs": [],
   "source": [
    "def print_result_l(message, value_from_function):\n",
    "#    time1=time()\n",
    "#    value_from_function=function\n",
    "#    time2=time()-time1\n",
    "    print(message, \"\\t%2.5f, %2.5f\" %(value_from_function[0], value_from_function[1]), end=\"\")\n",
    "    tmp=entropy.get_last_info()\n",
    "    print(\" +/- %2.5f (%d effective points, %d errors)\" %(tmp[0], tmp[3], tmp[2]), end=\"\")"
   ]
  },
  {
   "cell_type": "code",
   "execution_count": 4,
   "metadata": {},
   "outputs": [
    {
     "name": "stdout",
     "output_type": "stream",
     "text": [
      "testing on data with 1000 points, including 250 NaN\n",
      "\n",
      "x (full, no NaN) \t2.69183 +/- 0.18587 (990 effective points, 0 errors) (0.0040 s)\n",
      "optimized mask\n",
      "x (mask, no NaN) \t2.69183 +/- 0.18587 (990 effective points, 0 errors) (0.0031 s)\n",
      "conservative mask\n",
      "x (mask, no NaN) \t2.69183 +/- 0.18587 (990 effective points, 0 errors) (0.0017 s)\n",
      "\n",
      "theoretical value:\t2.77687\n",
      "\n",
      "optimized mask\n",
      "x masked, tau=10 \t2.75512 +/- 0.16861 (598 effective points, 0 errors) (0.0015 s)\n",
      "conservative mask\n",
      "x masked, tau=10 \tnan +/- 0.16861 (0 effective points, 0 errors) (0.0002 s)\n"
     ]
    }
   ],
   "source": [
    "# prepare and test a dataset with NaN points\n",
    "npoints = 1000\n",
    "nNaN    = npoints//4\n",
    "ndim    = 1\n",
    "sigma_x = 1.\n",
    "\n",
    "m       = 2       # embedding\n",
    "stride  = 10      # stride (tau)\n",
    "\n",
    "x = normal(loc = 0., scale=sigma_x, size=(ndim, npoints));\n",
    "\n",
    "print(\"testing on data with %d points, including %d NaN\\n\" %(npoints, nNaN))\n",
    "time1=time(); print_result(\"x (full, no NaN)\", entropy.compute_entropy(x, m, stride))\n",
    "print(\" (%2.4f s)\" %(time()-time1))\n",
    "\n",
    "print(\"optimized mask\")\n",
    "time1=time(); print_result(\"x (mask, no NaN)\", entropy.compute_entropy(x, m, stride, mask=tools.mask_finite(x)))\n",
    "print(\" (%2.4f s)\" %(time()-time1))\n",
    "\n",
    "print(\"conservative mask\")\n",
    "entropy.choose_algorithm(mask=2)\n",
    "time1=time(); print_result(\"x (mask, no NaN)\", entropy.compute_entropy(x, m, stride, mask=tools.mask_finite(x)))\n",
    "print(\" (%2.4f s)\" %(time()-time1))\n",
    "entropy.choose_algorithm(mask=1) # back to default\n",
    "\n",
    "NaN_ind = numpy.random.randint(0, npoints, nNaN)\n",
    "x[0,NaN_ind] = numpy.nan\n",
    "\n",
    "# building a mask to discard NaNs when calling the library:\n",
    "mask_good = tools.mask_finite(x)   # using pure Python code\n",
    "mask_g2   = entropy.mask_finite(x) # using cython code (slower ???)\n",
    "ma=numpy.max(mask_good-mask_g2)\n",
    "mi=numpy.min(mask_good-mask_g2)\n",
    "#print(\"%d and %d should be 0\" %(ma, mi))\n",
    "#print(\"\\n\", numpy.info(mask_good),\"\\n\")\n",
    "#print(\"\\n\", numpy.info(mask_g2),\"\\n\")\n",
    "\n",
    "if tools.no_NaN(x): # if there are NaNs, then the following will crash the notebook\n",
    "    print(\"x (full, no mask):\\t\", entropy.compute_entropy(x, m, stride), end=\"\")\n",
    "    tmp=entropy.get_last_info()\n",
    "    print(\"\\t(%d effective points, %d errors)\" %(tmp[3], tmp[2]))\n",
    "\n",
    "print(\"\")\n",
    "std = numpy.nanstd(x)\n",
    "print(\"theoretical value:\\t%2.5f\" %(1./2.*numpy.log(2.*numpy.exp(1)*pi*std**2)*m*ndim))\n",
    "print(\"\")\n",
    "\n",
    "print(\"optimized mask\")\n",
    "time1=time(); print_result(\"x masked, tau=%d\" %(stride), entropy.compute_entropy(x, m, stride, mask=mask_good))\n",
    "print(\" (%2.4f s)\" %(time()-time1))\n",
    "\n",
    "print(\"conservative mask\")\n",
    "entropy.choose_algorithm(mask=2)\n",
    "time1=time(); print_result(\"x masked, tau=%d\" %(stride), entropy.compute_entropy(x, m, stride, mask=tools.mask_finite(x)))\n",
    "print(\" (%2.4f s)\" %(time()-time1))\n",
    "entropy.choose_algorithm(mask=1) # back to default\n",
    "\n",
    "#time1=time()\n",
    "#print(\"x masked, tau=%d:\\t\" %stride,   entropy.compute_entropy(x, m, stride, mask=mask_g2), end=\"\")\n",
    "#time2=time()-time1\n",
    "#tmp=entropy.get_last_info()\n",
    "#print(\"\\t(%f s) (%d effective points, %d errors)\" %(time2, tmp[3], tmp[2]))\n"
   ]
  },
  {
   "cell_type": "code",
   "execution_count": 10,
   "metadata": {},
   "outputs": [
    {
     "name": "stdout",
     "output_type": "stream",
     "text": [
      "Help on built-in function choose_algorithm in module entropy:\n",
      "\n",
      "choose_algorithm(...)\n",
      "    choose_algorithm([algo])\n",
      "    \n",
      "    Select the algorithms to use for computing all mutual informations (including partial mutual informations and TEs).\n",
      "    \n",
      "    algo     : Kraskov-Stogbauer-Grassberger algorithm \n",
      "               possible values: {1, 2, 1|2}) for (algo 1, algo 2, both algos)\n",
      "               (default=1)\n",
      "    version  : counting algorithm version \n",
      "               legacy: faster for small embedding dimensions (<=2)\n",
      "               mixed ANN: faster for large emmbedding dimensions (>=4)\n",
      "               possible values: (1, 2) for (legacy, mixed ANN)\n",
      "               (default=1)\n",
      "    mask     : mask algorithm \n",
      "               Theiler optimized: use all possible vectors \n",
      "               legacy: use only large enough contiguous blocks (quite conservative)\n",
      "               possible values: (1, 2) for (optimized, legacy)\n",
      "               (default=1)\n",
      "\n"
     ]
    }
   ],
   "source": [
    "help(entropy.choose_algorithm)"
   ]
  },
  {
   "cell_type": "code",
   "execution_count": null,
   "metadata": {},
   "outputs": [],
   "source": [
    "isf = numpy.asarray(numpy.isfinite(x))\n",
    "y=tools.reorder(x[isf])\n",
    "\n",
    "std = numpy.nanstd(y)\n",
    "print(\"theoretical value for y:%2.5f\" %(1./2.*numpy.log(2.*numpy.exp(1)*pi*std**2)*m*ndim))\n",
    "print_result(\"y (full, no mask):\", entropy.compute_entropy(y, m, stride))\n"
   ]
  },
  {
   "cell_type": "code",
   "execution_count": 3,
   "metadata": {},
   "outputs": [],
   "source": [
    "def FIR_filter(x, T_integration):\n",
    "    ''' function to filter in time (low pass) by local averaging :\n",
    "    '''\n",
    "    stride_f = T_integration*0.8 # overlap\n",
    "    stride = int(stride_f)\n",
    "    \n",
    "    x_f = x[0,0:-1-T_integration];\n",
    "    for i in range(1,T_integration):\n",
    "        x_f  = x_f + x[0,i:-1-T_integration+i];\n",
    "    x_f = x_f / T_integration;\n",
    "           \n",
    "    return tools.reorder(x_f)\n"
   ]
  },
  {
   "cell_type": "code",
   "execution_count": 4,
   "metadata": {},
   "outputs": [
    {
     "name": "stdout",
     "output_type": "stream",
     "text": [
      "x (full, no NaN), tau=1 \t1.18717 +/- 0.00000 (19978 effective points, 0 errors)\n",
      "x (full, no NaN), tau=3 \t0.64469 +/- 0.00635 (19974 effective points, 0 errors)\n",
      "x (full, no NaN), tau=5 \t0.40919 +/- 0.00909 (19970 effective points, 0 errors)\n",
      "x (full, no NaN), tau=7 \t0.27418 +/- 0.01414 (19971 effective points, 0 errors)\n",
      "x (full, no NaN), tau=9 \t0.17994 +/- 0.01178 (19962 effective points, 0 errors)\n",
      "x (full, no NaN), tau=11 \t0.12116 +/- 0.01246 (19965 effective points, 0 errors)\n",
      "x (full, no NaN), tau=13 \t0.06323 +/- 0.01630 (19955 effective points, 0 errors)\n",
      "x (full, no NaN), tau=15 \t0.02934 +/- 0.01692 (19950 effective points, 0 errors)\n",
      "x (full, no NaN), tau=17 \t0.00664 +/- 0.01482 (19958 effective points, 0 errors)\n",
      "x (full, no NaN), tau=19 \t0.00060 +/- 0.01776 (19950 effective points, 0 errors)\n",
      "x (full, no NaN), tau=21 \t-0.00065 +/- 0.01180 (19950 effective points, 0 errors)\n",
      "x (full, no NaN), tau=23 \t-0.00148 +/- 0.01442 (19941 effective points, 0 errors)\n",
      "x (full, no NaN), tau=25 \t-0.00317 +/- 0.02308 (19950 effective points, 0 errors)\n",
      "x (full, no NaN), tau=27 \t-0.00426 +/- 0.02524 (19926 effective points, 0 errors)\n",
      "x (full, no NaN), tau=29 \t-0.00173 +/- 0.01479 (19923 effective points, 0 errors)\n"
     ]
    }
   ],
   "source": [
    "# prepare and test a dataset with NaN points\n",
    "npoints = 20000\n",
    "nNaN    = npoints//2\n",
    "ndim    = 1\n",
    "sigma_x = 1.\n",
    "\n",
    "m       = 5        # embedding\n",
    "stride  = 20      # stride (tau)\n",
    "tau_filtre = 20\n",
    "\n",
    "x = normal(loc = 0., scale=sigma_x, size=(ndim, npoints));\n",
    "x = FIR_filter(x, tau_filtre)\n",
    "npoints = npoints-tau_filtre-1\n",
    "\n",
    "for stride in numpy.arange(1,30,2):\n",
    "    a=x[:,:-stride]\n",
    "    b=x[:,stride:]\n",
    "    print_result(\"x (full, no NaN), tau=%d\" %stride, entropy.compute_MI(a, b, 1, 1, stride)[0])\n",
    "    print(\"\")"
   ]
  },
  {
   "cell_type": "code",
   "execution_count": 5,
   "metadata": {},
   "outputs": [
    {
     "name": "stdout",
     "output_type": "stream",
     "text": [
      "x (mask, NaN), tau=1 \t1.17476 +/- 0.00000 (7324 effective points, 0 errors)\n",
      "x (mask, NaN), tau=3 \t0.64694 +/- 0.02414 (7387 effective points, 0 errors)\n",
      "x (mask, NaN), tau=5 \t0.42477 +/- 0.01673 (7341 effective points, 0 errors)\n",
      "x (mask, NaN), tau=7 \t0.27354 +/- 0.02747 (7309 effective points, 0 errors)\n",
      "x (mask, NaN), tau=9 \t0.18466 +/- 0.01680 (7353 effective points, 0 errors)\n",
      "x (mask, NaN), tau=11 \t0.11507 +/- 0.01878 (7348 effective points, 0 errors)\n",
      "x (mask, NaN), tau=13 \t0.06312 +/- 0.01561 (7367 effective points, 0 errors)\n",
      "x (mask, NaN), tau=15 \t0.02651 +/- 0.02564 (7374 effective points, 0 errors)\n",
      "x (mask, NaN), tau=17 \t-0.00317 +/- 0.01743 (7428 effective points, 0 errors)\n",
      "x (mask, NaN), tau=19 \t0.00093 +/- 0.02208 (7374 effective points, 0 errors)\n",
      "x (mask, NaN), tau=21 \t-0.00240 +/- 0.02976 (7401 effective points, 0 errors)\n",
      "x (mask, NaN), tau=23 \t-0.01225 +/- 0.02655 (7379 effective points, 0 errors)\n",
      "x (mask, NaN), tau=25 \t0.00535 +/- 0.02396 (7377 effective points, 0 errors)\n",
      "x (mask, NaN), tau=27 \t-0.00058 +/- 0.02965 (7334 effective points, 0 errors)\n",
      "x (mask, NaN), tau=29 \t-0.00037 +/- 0.02780 (7387 effective points, 0 errors)\n"
     ]
    }
   ],
   "source": [
    "# now with NaNs:    \n",
    "NaN_ind = numpy.random.randint(0, npoints, nNaN)\n",
    "x[0,NaN_ind] = numpy.nan\n",
    "\n",
    "for stride in numpy.arange(1,30,2):\n",
    "    a=x[:,:-stride]\n",
    "    b=x[:,stride:]\n",
    "    mask_a = tools.mask_finite(a)\n",
    "    mask_b = tools.mask_finite(b)\n",
    "#    print(mask_a.shape, mask_b.shape)\n",
    "    mask = numpy.append(mask_a, mask_b, axis=0).reshape(2,-1)\n",
    "    mask = tools.mask_clean(mask)\n",
    "    print_result(\"x (mask, NaN), tau=%d\" %stride, entropy.compute_MI(a, b, 1, 1, stride, mask=mask)[0])\n",
    "    print(\"\")"
   ]
  },
  {
   "cell_type": "code",
   "execution_count": null,
   "metadata": {},
   "outputs": [],
   "source": [
    "help(entropy.compute_MI)"
   ]
  },
  {
   "cell_type": "code",
   "execution_count": null,
   "metadata": {},
   "outputs": [],
   "source": [
    "mask.shape"
   ]
  },
  {
   "cell_type": "code",
   "execution_count": null,
   "metadata": {},
   "outputs": [],
   "source": []
  }
 ],
 "metadata": {
  "kernelspec": {
   "display_name": "Python 3",
   "language": "python",
   "name": "python3"
  },
  "language_info": {
   "codemirror_mode": {
    "name": "ipython",
    "version": 3
   },
   "file_extension": ".py",
   "mimetype": "text/x-python",
   "name": "python",
   "nbconvert_exporter": "python",
   "pygments_lexer": "ipython3",
   "version": "3.7.7"
  }
 },
 "nbformat": 4,
 "nbformat_minor": 4
}
