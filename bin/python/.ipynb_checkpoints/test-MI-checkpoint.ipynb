{
 "cells": [
  {
   "cell_type": "code",
   "execution_count": 1,
   "metadata": {},
   "outputs": [],
   "source": [
    "# -*- coding: ascii -*-\n",
    "import entropy.entropy as entropy\n",
    "import entropy.tools as tools\n",
    "\n",
    "#help(entropy)\n",
    "\n",
    "from time import time\n",
    "from numpy.random import normal\n",
    "import numpy\n",
    "\n",
    "pi = numpy.pi\n",
    "numpy.random.seed(1234)\n",
    "\n",
    "import matplotlib.pyplot as plt"
   ]
  },
  {
   "cell_type": "markdown",
   "metadata": {},
   "source": [
    "## setup the parameters of the library\n",
    "comment the line you do not want"
   ]
  },
  {
   "cell_type": "code",
   "execution_count": 2,
   "metadata": {},
   "outputs": [
    {
     "name": "stdout",
     "output_type": "stream",
     "text": [
      "now using Theiler prescription 1\n",
      "now using Theiler prescription 4\n",
      "Theiler prescription : 4(adapted)\n",
      "Theiler scale        : -4\n",
      "N_eff                : 2000\n",
      "N_realizations       : 10\n"
     ]
    }
   ],
   "source": [
    "N_eff  = 2000\n",
    "N_real = 10\n",
    "\n",
    "# legacy behavior (for Steph): Theiler is set equal to stride\n",
    "entropy.set_sampling(Theiler=1)\n",
    "\n",
    "# new recommended behavior:\n",
    "entropy.set_sampling(Theiler=4, N_eff=N_eff, N_real=10)\n",
    "\n",
    "# check at any time what we are using:\n",
    "entropy.get_sampling()"
   ]
  },
  {
   "cell_type": "markdown",
   "metadata": {},
   "source": [
    "## entropy\n",
    "- to have the Gaussian estimate (ie, assuming a Gaussian distribution and using only the correlations), just set the nb of neighbors to -1; \n",
    "this should work for all \"basic\" functions\n",
    "- as for any function of the library, all input data can be multi-dimensional"
   ]
  },
  {
   "cell_type": "code",
   "execution_count": 3,
   "metadata": {},
   "outputs": [
    {
     "name": "stdout",
     "output_type": "stream",
     "text": [
      "entropies of x and y: \n",
      "Gaussian estimate    : 1.4232568446832157 +/- 0.015055574591739297  /  1.4426008297183703 +/- 0.015874239281787234\n",
      "ANN estimate with k=5: 1.4219548482991493 +/- 0.025762445834526883  /  1.4410188994100848 +/- 0.02426288876840255\n"
     ]
    }
   ],
   "source": [
    "N_pts = 100000\n",
    "n_dim = 1\n",
    "\n",
    "x=normal(loc = 0., scale=1., size=(n_dim, N_pts));\n",
    "#y=normal(loc = 0., scale=1., size=(n_dim+1, N_pts));\n",
    "y=x+normal(loc = 0., scale=0.2, size=(n_dim, N_pts));\n",
    "\n",
    "print(\"entropies of x and y: \")\n",
    "Hx = entropy.compute_entropy(x, k=-1)\n",
    "std_Hx = entropy.get_last_info()[0]\n",
    "Hy = entropy.compute_entropy(y, k=-1)\n",
    "std_Hy = entropy.get_last_info()[0]\n",
    "print(\"Gaussian estimate    :\", Hx, \"+/-\", std_Hx, \" / \", Hy, \"+/-\", std_Hy)\n",
    "\n",
    "Hx = entropy.compute_entropy(x)\n",
    "std_Hx = entropy.get_last_info()[0]\n",
    "Hy = entropy.compute_entropy(y)\n",
    "std_Hy = entropy.get_last_info()[0]\n",
    "print(\"ANN estimate with k=5:\", Hx, \"+/-\", std_Hx, \" / \", Hy, \"+/-\", std_Hy)"
   ]
  },
  {
   "cell_type": "markdown",
   "metadata": {},
   "source": [
    "## Mutual Information\n",
    "to have the Gaussian estimate (ie, assuming a Gaussian distribution and using only the correlations), just set the nb of neighbors to -1 \n",
    "\n",
    "to have Kraskov et al algo 1 and/or 2, set the algorithm to either 1, 2 or 1+2"
   ]
  },
  {
   "cell_type": "code",
   "execution_count": 4,
   "metadata": {
    "scrolled": true
   },
   "outputs": [
    {
     "name": "stdout",
     "output_type": "stream",
     "text": [
      "Mutual Information between x and y\n",
      "MI Gaussian  :  1.6327985996171694 +/- 0.02488003690824394\n",
      "MI ANN (k=5) :  1.647738115180335 +/- 0.023662703372282545\n",
      "\n",
      "Mutual Information between x and shuffled y\n",
      "MI Gaussian  :  0.00026199127630913046 +/- 0.000374906841823378\n",
      "MI ANN (k=5) :  0.0035721436397535555 +/- 0.007884555589220094\n",
      "\n",
      "Mutual Information between x and y, asking for a larger number of effective points\n",
      "MI Gaussian  :  1.6277829305499705 +/- 0.00992913472020644\n",
      "MI ANN (k=5) :  1.6382656845763877 +/- 0.010595338679769362\n",
      "\n",
      "Mutual Information between x and y, asking for more realizations\n",
      "MI Gaussian  :  1.6274920077367008 +/- 0.025993740634837392\n",
      "MI ANN (k=5) :  1.6445061444912188 +/- 0.027923165520258097\n"
     ]
    }
   ],
   "source": [
    "# entropy.choose_algorithm(1|2) # default is algo 1 only (faster), but you can compute both\n",
    "\n",
    "print(\"Mutual Information between x and y\")\n",
    "MI = entropy.compute_MI(x,y, stride=10, k=-1)[0] # only keep first returned value : this is from algo 1\n",
    "std_MI = entropy.get_last_info()[0]              # only keep first returned value : this is from algo 1\n",
    "print(\"MI Gaussian  : \", MI, \"+/-\", std_MI)\n",
    "\n",
    "MI = entropy.compute_MI(x,y, stride=10)[0] # only keep first returned value : this is from algo 1\n",
    "std_MI = entropy.get_last_info()[0]        # only keep first returned value : this is from algo 1\n",
    "print(\"MI ANN (k=5) : \", MI, \"+/-\", std_MI)\n",
    "\n",
    "\n",
    "print()\n",
    "print(\"Mutual Information between x and shuffled y\")\n",
    "z  = entropy.surrogate(y, method=0)\n",
    "MI = entropy.compute_MI(x, z, stride=10, k=-1)[0] # only keep first returned value : this is from algo 1\n",
    "std_MI = entropy.get_last_info()[0]              # only keep first returned value : this is from algo 1\n",
    "print(\"MI Gaussian  : \", MI, \"+/-\", std_MI)\n",
    "\n",
    "MI = entropy.compute_MI(x, z, stride=10)[0] # only keep first returned value : this is from algo 1\n",
    "std_MI = entropy.get_last_info()[0]        # only keep first returned value : this is from algo 1\n",
    "print(\"MI ANN (k=5) : \", MI, \"+/-\", std_MI)\n",
    "\n",
    "print()\n",
    "print(\"Mutual Information between x and y, asking for a larger number of effective points\")\n",
    "MI = entropy.compute_MI(x,y, stride=10, k=-1, N_eff=10000)[0] # only keep first returned value : this is from algo 1\n",
    "std_MI = entropy.get_last_info()[0]              # only keep first returned value : this is from algo 1\n",
    "print(\"MI Gaussian  : \", MI, \"+/-\", std_MI)\n",
    "\n",
    "MI = entropy.compute_MI(x,y, stride=10, N_eff=10000)[0] # only keep first returned value : this is from algo 1\n",
    "std_MI = entropy.get_last_info()[0]        # only keep first returned value : this is from algo 1\n",
    "print(\"MI ANN (k=5) : \", MI, \"+/-\", std_MI)\n",
    "\n",
    "print()\n",
    "print(\"Mutual Information between x and y, asking for more realizations\")\n",
    "MI = entropy.compute_MI(x,y, stride=10, k=-1, N_real=100)[0] # only keep first returned value : this is from algo 1\n",
    "std_MI = entropy.get_last_info()[0]              # only keep first returned value : this is from algo 1\n",
    "print(\"MI Gaussian  : \", MI, \"+/-\", std_MI)\n",
    "\n",
    "MI = entropy.compute_MI(x,y, stride=10, N_real=100)[0] # only keep first returned value : this is from algo 1\n",
    "std_MI = entropy.get_last_info()[0]        # only keep first returned value : this is from algo 1\n",
    "print(\"MI ANN (k=5) : \", MI, \"+/-\", std_MI)\n"
   ]
  },
  {
   "cell_type": "markdown",
   "metadata": {},
   "source": [
    "### many other functions dedicated to\n",
    "- entropy rate (with MI, or embed. dim. diff., etc), \n",
    "- entropy of increments (of any order up to 7), entropy of averaged increments, \n",
    "- partial MI, \n",
    "- transfer entropy,\n",
    "- stationarity index (Delta),\n",
    "- KL div,\n",
    "- ..."
   ]
  },
  {
   "cell_type": "code",
   "execution_count": null,
   "metadata": {},
   "outputs": [],
   "source": []
  }
 ],
 "metadata": {
  "kernelspec": {
   "display_name": "Python 3 (ipykernel)",
   "language": "python",
   "name": "python3"
  },
  "language_info": {
   "codemirror_mode": {
    "name": "ipython",
    "version": 3
   },
   "file_extension": ".py",
   "mimetype": "text/x-python",
   "name": "python",
   "nbconvert_exporter": "python",
   "pygments_lexer": "ipython3",
   "version": "3.9.15"
  }
 },
 "nbformat": 4,
 "nbformat_minor": 2
}
