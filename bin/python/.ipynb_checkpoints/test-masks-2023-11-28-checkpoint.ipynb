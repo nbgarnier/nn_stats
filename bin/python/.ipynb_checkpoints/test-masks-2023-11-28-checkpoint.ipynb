{
 "cells": [
  {
   "cell_type": "code",
   "execution_count": 1,
   "metadata": {},
   "outputs": [],
   "source": [
    "# -*- coding: ascii -*-\n",
    "\n",
    "from numpy.random import normal # http://docs.scipy.org/doc/numpy/reference/generated/numpy.random.normal.html\n",
    "import numpy\n",
    "#from scipy.stats.stats import pearsonr  # will give *normalized* correlation coefficient\n",
    "numpy.random.seed(1234)\n",
    "pi = numpy.pi\n",
    "\n",
    "from time import time\n",
    "\n",
    "#import sys\n",
    "#print(sys.version)\n",
    "\n",
    "# note, 2017-11-29:\n",
    "# pour compiler la librairie cython sans warnings sur les differentes versions des librairies:\n",
    "# export MACOSX_DEPLOYMENT_TARGET=10.6\n",
    "\n",
    "# note, 2020-02-22:\n",
    "# the correct ordering for data is now:\n",
    "# - nx:   components (dimensionality) as first dimension\n",
    "# - npts: time as second dimension\n",
    "# so shape = (nx, npts)\n",
    "\n",
    "#import entropy_ann as ann # Cython version, old\n",
    "import entropy.entropy as entropy       # Cython version, new 2020-02-22\n",
    "import entropy.tools as tools\n",
    "import entropy.masks as masks\n",
    "\n",
    "#help(tools)\n",
    "#print(dir(tools))"
   ]
  },
  {
   "cell_type": "code",
   "execution_count": 2,
   "metadata": {},
   "outputs": [],
   "source": [
    "def print_result(message, value_from_function):\n",
    "#    time1=time()\n",
    "#    value_from_function=function\n",
    "#    time2=time()-time1\n",
    "    print(message, \"\\t%2.5f\" %value_from_function, end=\"\")\n",
    "    tmp=entropy.get_last_info()\n",
    "    print(\" +/- %2.5f (%d effective points, %d errors)\" %(tmp[0], tmp[3], tmp[2]), end=\"\")"
   ]
  },
  {
   "cell_type": "code",
   "execution_count": 3,
   "metadata": {},
   "outputs": [],
   "source": [
    "def print_result_l(message, value_from_function):\n",
    "#    time1=time()\n",
    "#    value_from_function=function\n",
    "#    time2=time()-time1\n",
    "    print(message, \"\\t%2.5f, %2.5f\" %(value_from_function[0], value_from_function[1]), end=\"\")\n",
    "    tmp=entropy.get_last_info()\n",
    "    print(\" +/- %2.5f (%d effective points, %d errors)\" %(tmp[0], tmp[3], tmp[2]), end=\"\")"
   ]
  },
  {
   "cell_type": "code",
   "execution_count": 18,
   "metadata": {},
   "outputs": [
    {
     "name": "stdout",
     "output_type": "stream",
     "text": [
      "Help on cython_function_or_method in module entropy:\n",
      "\n",
      "get_last_info(verbosity=0)\n",
      "    returns informations from the last computation (and prints them on screen if verbosity>0)\n",
      "    \n",
      "    :param verbosity: an integer. If ==0 (default), then nothing is printed on the screen, but values are returned (useful for use in scripts).\n",
      "    :returns: the following 8 values, in the following order\n",
      "    \n",
      "      - the standard deviations estimates of the last computed quantities\n",
      "      - the number of errors encountered \n",
      "      - the effective number of points used, per realization, and total\n",
      "      - the number of independent realizations used\n",
      "      - the effective value of tau_Theiler (in x, and eventually in y)\n",
      "\n"
     ]
    }
   ],
   "source": [
    "help(entropy.get_last_info)\n"
   ]
  },
  {
   "cell_type": "code",
   "execution_count": 10,
   "metadata": {},
   "outputs": [
    {
     "name": "stdout",
     "output_type": "stream",
     "text": [
      "testing on data with 1000 points, including 250 NaN\n",
      "\n",
      "x (full, no NaN) \tnan +/- 0.00000 (0 effective points, 0 errors) (0.0001 s)\n",
      "mask\n",
      "x (mask, no NaN) \tnan +/- 0.00000 (0 effective points, 0 errors) (0.0002 s)\n",
      "\n",
      "theoretical value:\t2.79230\n",
      "\n",
      "mask\n",
      "x masked, tau=10 \tnan +/- 0.00000 (0 effective points, 0 errors) (0.0001 s)\n"
     ]
    }
   ],
   "source": [
    "# prepare and test a dataset with NaN points\n",
    "Npts    = 1000\n",
    "N_NaN   = Npts//4\n",
    "ndim    = 1\n",
    "sigma_x = 1.\n",
    "\n",
    "m       = 2       # embedding\n",
    "stride  = 10      # stride (tau)\n",
    "\n",
    "x = normal(loc = 0., scale=sigma_x, size=(ndim, Npts));\n",
    "\n",
    "print(\"testing on data with %d points, including %d NaN\\n\" %(Npts, N_NaN))\n",
    "time1=time(); print_result(\"x (full, no NaN)\", entropy.compute_entropy(x, m, stride))\n",
    "print(\" (%2.4f s)\" %(time()-time1))\n",
    "\n",
    "print(\"mask\")\n",
    "time1=time(); print_result(\"x (mask, no NaN)\", entropy.compute_entropy(x, m, stride, mask=masks.mask_finite(x)))\n",
    "print(\" (%2.4f s)\" %(time()-time1))\n",
    "\n",
    "NaN_ind = numpy.random.randint(0, Npts, N_NaN)\n",
    "x[0,NaN_ind] = numpy.nan\n",
    "\n",
    "# building a mask to discard NaNs when calling the library:\n",
    "mask_good = masks.mask_finite(x)   # using pure Python code\n",
    "mask_g2   = entropy.mask_finite_C(x) # using cython code (slower ???)\n",
    "ma=numpy.max(mask_good-mask_g2)\n",
    "mi=numpy.min(mask_good-mask_g2)\n",
    "#print(\"%d and %d should be 0\" %(ma, mi))\n",
    "#print(\"\\n\", numpy.info(mask_good),\"\\n\")\n",
    "#print(\"\\n\", numpy.info(mask_g2),\"\\n\")\n",
    "\n",
    "if masks.no_NaN(x): # if there are NaNs, then the following will crash the notebook\n",
    "    print(\"x (full, no mask):\\t\", entropy.compute_entropy(x, m, stride), end=\"\")\n",
    "    tmp=entropy.get_last_info()\n",
    "    print(\"\\t(%d effective points, %d errors)\" %(tmp[3], tmp[2]))\n",
    "\n",
    "print(\"\")\n",
    "std = numpy.nanstd(x)\n",
    "print(\"theoretical value:\\t%2.5f\" %(1./2.*numpy.log(2.*numpy.exp(1)*pi*std**2)*m*ndim))\n",
    "print(\"\")\n",
    "\n",
    "print(\"mask\")\n",
    "time1=time(); print_result(\"x masked, tau=%d\" %(stride), entropy.compute_entropy(x, m, stride, mask=mask_good))\n",
    "print(\" (%2.4f s)\" %(time()-time1))\n",
    "\n",
    "#time1=time()\n",
    "#print(\"x masked, tau=%d:\\t\" %stride,   entropy.compute_entropy(x, m, stride, mask=mask_g2), end=\"\")\n",
    "#time2=time()-time1\n",
    "#tmp=entropy.get_last_info()\n",
    "#print(\"\\t(%f s) (%d effective points, %d errors)\" %(time2, tmp[3], tmp[2]))\n"
   ]
  },
  {
   "cell_type": "code",
   "execution_count": 10,
   "metadata": {},
   "outputs": [
    {
     "name": "stdout",
     "output_type": "stream",
     "text": [
      "Help on built-in function choose_algorithm in module entropy:\n",
      "\n",
      "choose_algorithm(...)\n",
      "    choose_algorithm([algo])\n",
      "    \n",
      "    Select the algorithms to use for computing all mutual informations (including partial mutual informations and TEs).\n",
      "    \n",
      "    algo     : Kraskov-Stogbauer-Grassberger algorithm \n",
      "               possible values: {1, 2, 1|2}) for (algo 1, algo 2, both algos)\n",
      "               (default=1)\n",
      "    version  : counting algorithm version \n",
      "               legacy: faster for small embedding dimensions (<=2)\n",
      "               mixed ANN: faster for large emmbedding dimensions (>=4)\n",
      "               possible values: (1, 2) for (legacy, mixed ANN)\n",
      "               (default=1)\n",
      "    mask     : mask algorithm \n",
      "               Theiler optimized: use all possible vectors \n",
      "               legacy: use only large enough contiguous blocks (quite conservative)\n",
      "               possible values: (1, 2) for (optimized, legacy)\n",
      "               (default=1)\n",
      "\n"
     ]
    }
   ],
   "source": [
    "help(entropy.choose_algorithm)"
   ]
  },
  {
   "cell_type": "code",
   "execution_count": 5,
   "metadata": {},
   "outputs": [
    {
     "name": "stdout",
     "output_type": "stream",
     "text": [
      "theoretical value for y:2.77687\n",
      "y (full, no mask): \t2.73619 +/- 0.14340 (770 effective points, 0 errors)"
     ]
    }
   ],
   "source": [
    "isf = numpy.asarray(numpy.isfinite(x))\n",
    "y=tools.reorder(x[isf])\n",
    "\n",
    "std = numpy.nanstd(y)\n",
    "print(\"theoretical value for y:%2.5f\" %(1./2.*numpy.log(2.*numpy.exp(1)*pi*std**2)*m*ndim))\n",
    "print_result(\"y (full, no mask):\", entropy.compute_entropy(y, m, stride))\n"
   ]
  },
  {
   "cell_type": "code",
   "execution_count": 12,
   "metadata": {},
   "outputs": [],
   "source": [
    "def FIR_filter(x, T_integration):\n",
    "    ''' function to filter in time (low pass) by local averaging :\n",
    "    '''\n",
    "    stride_f = T_integration*0.8 # overlap\n",
    "    stride = int(stride_f)\n",
    "    \n",
    "    x_f = x[0,0:-1-T_integration];\n",
    "    for i in range(1,T_integration):\n",
    "        x_f  = x_f + x[0,i:-1-T_integration+i];\n",
    "    x_f = x_f / T_integration;\n",
    "           \n",
    "    return tools.reorder(x_f)\n"
   ]
  },
  {
   "cell_type": "code",
   "execution_count": 17,
   "metadata": {},
   "outputs": [
    {
     "name": "stdout",
     "output_type": "stream",
     "text": [
      "x (full, no NaN), tau=1 \t1.13534 +/- 0.01410 (0 effective points, 0 errors)\n",
      "x (full, no NaN), tau=3 \t0.62994 +/- 0.00681 (0 effective points, 0 errors)\n",
      "x (full, no NaN), tau=5 \t0.41035 +/- 0.01526 (0 effective points, 0 errors)\n",
      "x (full, no NaN), tau=7 \t0.27211 +/- 0.01010 (0 effective points, 0 errors)\n",
      "x (full, no NaN), tau=9 \t0.17516 +/- 0.01398 (0 effective points, 0 errors)\n",
      "x (full, no NaN), tau=11 \t0.11026 +/- 0.01100 (0 effective points, 0 errors)\n",
      "x (full, no NaN), tau=13 \t0.06738 +/- 0.00786 (0 effective points, 0 errors)\n",
      "x (full, no NaN), tau=15 \t0.03455 +/- 0.00733 (0 effective points, 0 errors)\n",
      "x (full, no NaN), tau=17 \t0.01214 +/- 0.00625 (0 effective points, 0 errors)\n",
      "x (full, no NaN), tau=19 \t0.00206 +/- 0.00701 (0 effective points, 0 errors)\n",
      "x (full, no NaN), tau=21 \t-0.00132 +/- 0.00747 (0 effective points, 0 errors)\n",
      "x (full, no NaN), tau=23 \t-0.00420 +/- 0.01296 (0 effective points, 0 errors)\n",
      "x (full, no NaN), tau=25 \t0.00258 +/- 0.00613 (0 effective points, 0 errors)\n",
      "x (full, no NaN), tau=27 \t-0.00180 +/- 0.01218 (0 effective points, 0 errors)\n",
      "x (full, no NaN), tau=29 \t-0.00128 +/- 0.00577 (0 effective points, 0 errors)\n"
     ]
    }
   ],
   "source": [
    "# prepare and test a dataset with NaN points\n",
    "npoints = 20000\n",
    "nNaN    = npoints//2\n",
    "ndim    = 1\n",
    "sigma_x = 1.\n",
    "\n",
    "m       = 1        # embedding\n",
    "stride  = 20      # stride (tau)\n",
    "tau_filtre = 20\n",
    "\n",
    "x = normal(loc = 0., scale=sigma_x, size=(ndim, npoints));\n",
    "x = FIR_filter(x, tau_filtre)\n",
    "npoints = npoints-tau_filtre-1\n",
    "\n",
    "for stride in numpy.arange(1,30,2):\n",
    "    a=x[:,:-stride]\n",
    "    b=x[:,stride:]\n",
    "    print_result(\"x (full, no NaN), tau=%d\" %stride, entropy.compute_MI(a, b, 1, 1, stride)[0])\n",
    "    print(\"\")"
   ]
  },
  {
   "cell_type": "code",
   "execution_count": 16,
   "metadata": {},
   "outputs": [
    {
     "name": "stdout",
     "output_type": "stream",
     "text": [
      "x (mask, NaN), tau=1 \tnan +/- 0.00789 (0 effective points, 0 errors)\n",
      "x (mask, NaN), tau=3 \tnan +/- 0.00789 (0 effective points, 0 errors)\n",
      "x (mask, NaN), tau=5 \tnan +/- 0.00789 (0 effective points, 0 errors)\n",
      "x (mask, NaN), tau=7 \tnan +/- 0.00789 (0 effective points, 0 errors)\n",
      "x (mask, NaN), tau=9 \tnan +/- 0.00789 (0 effective points, 0 errors)\n",
      "x (mask, NaN), tau=11 \tnan +/- 0.00789 (0 effective points, 0 errors)\n",
      "x (mask, NaN), tau=13 \tnan +/- 0.00789 (0 effective points, 0 errors)\n",
      "x (mask, NaN), tau=15 \tnan +/- 0.00789 (0 effective points, 0 errors)\n",
      "x (mask, NaN), tau=17 \tnan +/- 0.00789 (0 effective points, 0 errors)\n",
      "x (mask, NaN), tau=19 \tnan +/- 0.00789 (0 effective points, 0 errors)\n",
      "x (mask, NaN), tau=21 \tnan +/- 0.00789 (0 effective points, 0 errors)\n",
      "x (mask, NaN), tau=23 \tnan +/- 0.00789 (0 effective points, 0 errors)\n",
      "x (mask, NaN), tau=25 \tnan +/- 0.00789 (0 effective points, 0 errors)\n",
      "x (mask, NaN), tau=27 \tnan +/- 0.00789 (0 effective points, 0 errors)\n",
      "x (mask, NaN), tau=29 \tnan +/- 0.00789 (0 effective points, 0 errors)\n"
     ]
    }
   ],
   "source": [
    "# now with NaNs:    \n",
    "NaN_ind = numpy.random.randint(0, npoints, nNaN)\n",
    "x[0,NaN_ind] = numpy.nan\n",
    "\n",
    "for stride in numpy.arange(1,30,2):\n",
    "    a=x[:,:-stride]\n",
    "    b=x[:,stride:]\n",
    "    mask_a = masks.mask_finite(a)\n",
    "    mask_b = masks.mask_finite(b)\n",
    "#    print(mask_a.shape, mask_b.shape)\n",
    "    mask = numpy.append(mask_a, mask_b, axis=0).reshape(2,-1)\n",
    "    mask = masks.mask_clean(mask)\n",
    "    print_result(\"x (mask, NaN), tau=%d\" %stride, entropy.compute_MI(a, b, 1, 1, stride, mask=mask)[0])\n",
    "    print(\"\")"
   ]
  },
  {
   "cell_type": "code",
   "execution_count": null,
   "metadata": {},
   "outputs": [],
   "source": [
    "help(entropy.compute_MI)"
   ]
  },
  {
   "cell_type": "code",
   "execution_count": null,
   "metadata": {},
   "outputs": [],
   "source": [
    "mask.shape"
   ]
  },
  {
   "cell_type": "code",
   "execution_count": null,
   "metadata": {},
   "outputs": [],
   "source": []
  }
 ],
 "metadata": {
  "kernelspec": {
   "display_name": "Python 3 (ipykernel)",
   "language": "python",
   "name": "python3"
  },
  "language_info": {
   "codemirror_mode": {
    "name": "ipython",
    "version": 3
   },
   "file_extension": ".py",
   "mimetype": "text/x-python",
   "name": "python",
   "nbconvert_exporter": "python",
   "pygments_lexer": "ipython3",
   "version": "3.9.18"
  }
 },
 "nbformat": 4,
 "nbformat_minor": 4
}
