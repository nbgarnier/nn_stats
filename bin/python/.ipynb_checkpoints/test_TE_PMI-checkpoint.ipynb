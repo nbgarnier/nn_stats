{
 "cells": [
  {
   "cell_type": "code",
   "execution_count": 2,
   "id": "e6e1c20f",
   "metadata": {},
   "outputs": [],
   "source": [
    "import numpy\n",
    "import entropy.entropy as entropy\n",
    "import tools.tools as tools\n",
    "\n",
    "from time import time\n",
    "from numpy.random import normal # http://docs.scipy.org/doc/numpy/reference/generated/numpy.random.normal.html"
   ]
  },
  {
   "cell_type": "code",
   "execution_count": 15,
   "id": "f63ed7d1",
   "metadata": {},
   "outputs": [
    {
     "name": "stdout",
     "output_type": "stream",
     "text": [
      "normal distributions, uncorrelated, 10000 points, 2 dimensions.\n"
     ]
    }
   ],
   "source": [
    "# parameters (change them to play)\n",
    "ndim = 2\n",
    "npoints = 10000\n",
    "sigma=3.\n",
    "\n",
    "nb_voisins = 4\n",
    "stride     = 2\n",
    "lag        = 20\n",
    "m_embed_x  = 1\n",
    "m_embed_y  = 2\n",
    "\n",
    "x = normal(loc = 1.0, scale=sigma, size=(ndim,npoints));\n",
    "y = normal(loc = 1.0, scale=sigma, size=(ndim,npoints));\n",
    "\n",
    "print(\"normal distributions, uncorrelated,\", npoints, \"points,\", ndim, \"dimensions.\")"
   ]
  },
  {
   "cell_type": "code",
   "execution_count": 17,
   "id": "6dffb30b",
   "metadata": {},
   "outputs": [
    {
     "name": "stdout",
     "output_type": "stream",
     "text": [
      "TE  x->y = 0.0037552239042204505 +/- 0.0022467825615417603 \t(elapsed time : 0.12103009223937988 s)\n",
      "TE  y->x = 0.010768512704217081 +/- 0.002314999014934813 \t(elapsed time : 0.10751485824584961 s)\n",
      "PMI x->y = 0.0037552239042204505 +/- 0.0022467825615417603 \t(elapsed time : 0.10144925117492676 s)\n",
      "PMI y->x = 0.010768512704217081 +/- 0.002314999014934813 \t(elapsed time : 0.10573601722717285 s)\n"
     ]
    }
   ],
   "source": [
    "# TE version:\n",
    "t1=time()\n",
    "res=entropy.compute_TE(x, y, m_embed_x, m_embed_y, stride, lag, nb_voisins)\n",
    "std=entropy.get_last_info()[0]\n",
    "t1=time()-t1\n",
    "print(\"TE  x->y =\", res[0], \"+/-\",std ,\"\\t(elapsed time :\",t1, \"s)\")\n",
    "\n",
    "t1=time()\n",
    "res=entropy.compute_TE(y, x, m_embed_y, m_embed_x, stride, lag, nb_voisins)\n",
    "std=entropy.get_last_info()[0]\n",
    "t1=time()-t1\n",
    "print(\"TE  y->x =\", res[0], \"+/-\",std ,\"\\t(elapsed time :\",t1, \"s)\")\n",
    "\n",
    "# PMI version:\n",
    "xf=x[:,lag:].copy()\n",
    "yf=y[:,lag:].copy()\n",
    "xn=x[:,:-lag].copy()\n",
    "yn=y[:,:-lag].copy()\n",
    "\n",
    "t1=time()\n",
    "res=entropy.compute_PMI(xf, yn, xn, n_embed_x=1, n_embed_y=m_embed_y, n_embed_z=m_embed_x, stride=stride, k=nb_voisins)\n",
    "std=entropy.get_last_info()[0]\n",
    "t1=time()-t1\n",
    "print(\"PMI x->y =\", res[0], \"+/-\",std,\"\\t(elapsed time :\",t1, \"s)\")\n",
    "\n",
    "t1=time()\n",
    "res=entropy.compute_PMI(yf, xn, yn, n_embed_x=1, n_embed_y=m_embed_x, n_embed_z=m_embed_y, stride=stride, k=nb_voisins)\n",
    "std=entropy.get_last_info()[0]\n",
    "t1=time()-t1\n",
    "print(\"PMI y->x =\", res[0], \"+/-\",std,\"\\t(elapsed time :\",t1, \"s)\")"
   ]
  },
  {
   "cell_type": "code",
   "execution_count": 17,
   "id": "416ec238",
   "metadata": {},
   "outputs": [
    {
     "name": "stdout",
     "output_type": "stream",
     "text": [
      "Help on built-in function compute_TE in module entropy:\n",
      "\n",
      "compute_TE(...)\n",
      "    TE = compute_TE(x, y, n_embed_x=1, n_embed_y=1, stride=1, lag=1, k=5, [mask])\n",
      "               \n",
      "    computes transfer entropy TE(y->x) (influence of y over x) of two n-d vectors x and y\n",
      "    using nearest neighbors search with ANN library\n",
      "    embedding is performed on the fly.\n",
      "         \n",
      "    x, y      : signals (NumPy arrays with ndim=2, time along second dimension)\n",
      "    n_embed_x : embedding dimension for x (default=1)\n",
      "    n_embed_y : embedding dimension for y (default=1)\n",
      "    stride    : stride (Theiler correction will be used accordingly, even if n_embed_x,y=1) (default=1)\n",
      "    lag       : lag (equivalent to stride) for future point in time (default=1)\n",
      "    k         : number of neighbors to consider (typically 7 or 10) (default=5)\n",
      "    mask      : mask to use (NumPy array of dtype=char) (default=no mask)\n",
      "                if a mask is provided, only values given by the mask will be used\n",
      "\n",
      "Help on built-in function compute_PMI in module entropy:\n",
      "\n",
      "compute_PMI(...)\n",
      "    PMI = compute_PMI(x,y,z, n_embed_x=1, n_embed_y=1, n_embed_z=1, stride=1, k=5, [mask])\n",
      "               \n",
      "    computes partial mutual information (PMI) of three 2-d vectors x, y and z\n",
      "    PMI = MI(x,y|z)    (z is the conditioning variable)\n",
      "    using nearest neighbors search with ANN library\n",
      "    embedding is performed on the fly.\n",
      "         \n",
      "    n_embed_x : embedding dimension for x (default=1)\n",
      "    n_embed_y : embedding dimension for y (default=1)\n",
      "    n_embed_z : embedding dimension for z (default=1)\n",
      "    stride    : stride (Theiler correction will be used accordingly) (default=1)\n",
      "    k         : number of neighbors to consider (typically 7 or 10) (default=5)\n",
      "    mask      : mask to use (NumPy array of dtype=char) (default=no mask)\n",
      "                if a mask is provided, only values given by the mask will be used\n",
      "\n"
     ]
    }
   ],
   "source": [
    "help(entropy.compute_TE)\n",
    "help(entropy.compute_PMI)"
   ]
  },
  {
   "cell_type": "code",
   "execution_count": null,
   "id": "4b637a6f",
   "metadata": {},
   "outputs": [],
   "source": []
  }
 ],
 "metadata": {
  "kernelspec": {
   "display_name": "Python 3 (ipykernel)",
   "language": "python",
   "name": "python3"
  },
  "language_info": {
   "codemirror_mode": {
    "name": "ipython",
    "version": 3
   },
   "file_extension": ".py",
   "mimetype": "text/x-python",
   "name": "python",
   "nbconvert_exporter": "python",
   "pygments_lexer": "ipython3",
   "version": "3.9.7"
  }
 },
 "nbformat": 4,
 "nbformat_minor": 5
}
