{
 "cells": [
  {
   "cell_type": "code",
   "execution_count": 1,
   "metadata": {},
   "outputs": [],
   "source": [
    "# -*- coding: ascii -*-\n",
    "\n",
    "import entropy.entropy as entropy       # Cython version, new 2020-02-22\n",
    "\n",
    "from time import time\n",
    "from numpy.random import normal # http://docs.scipy.org/doc/numpy/reference/generated/numpy.random.normal.html\n",
    "import numpy\n",
    "#from scipy.stats.stats import pearsonr  # will give *normalized* correlation coefficient\n",
    "numpy.random.seed(1234)\n",
    "pi = numpy.pi\n",
    "\n",
    "# note, 2017-11-29:\n",
    "# pour compiler la librairie cython sans warnings sur les differentes versions des librairies:\n",
    "# export MACOSX_DEPLOYMENT_TARGET=10.6\n",
    "\n",
    "# note, 2020-02-22:\n",
    "# the correct ordering for data is now:\n",
    "# - nx:   components (dimensionality) as first dimension\n",
    "# - npts: time as second dimension\n",
    "# so shape = (nx, npts)\n",
    "\n",
    "#import sys\n",
    "#print(sys.version)\n",
    "#help(ann)"
   ]
  },
  {
   "cell_type": "code",
   "execution_count": 2,
   "metadata": {},
   "outputs": [],
   "source": [
    "# cell for matplotlib stuff\n",
    "%matplotlib inline\n",
    "#%pprint\n",
    "\n",
    "import matplotlib\n",
    "import matplotlib.pyplot as plt\n",
    "import pylab # for color manipulation\n",
    "import scipy.signal as signal # for periodogram\n",
    "\n",
    "from matplotlib.path import Path\n",
    "plt.rc('text', usetex=True)\n",
    "font = {'family' : 'serif',  # was 'normal'\n",
    "        'sans-serif':'Helvetica',\n",
    "        'serif'  : 'cmr10',    # LaTeX default\n",
    "        'weight' : 'normal',   # was 'bold'\n",
    "        'size'   : 16}\n",
    "matplotlib.rc('font', **font)"
   ]
  },
  {
   "cell_type": "markdown",
   "metadata": {},
   "source": [
    "# Définitions"
   ]
  },
  {
   "cell_type": "code",
   "execution_count": 3,
   "metadata": {},
   "outputs": [
    {
     "name": "stdout",
     "output_type": "stream",
     "text": [
      "['__builtins__', '__cached__', '__doc__', '__file__', '__loader__', '__name__', '__package__', '__path__', '__spec__', 'embed', 'mask_NaN', 'mask_clean', 'mask_finite', 'masks', 'no_NaN', 'reorder', 'tools']\n"
     ]
    },
    {
     "data": {
      "text/plain": [
       "array([[ 1.,  2.,  3.,  4.,  5.,  6.,  7.,  8.,  9., 10., 11., 12., 13.,\n",
       "        14., 15., 16., 17., 18., 19.],\n",
       "       [ 0.,  1.,  2.,  3.,  4.,  5.,  6.,  7.,  8.,  9., 10., 11., 12.,\n",
       "        13., 14., 15., 16., 17., 18.]])"
      ]
     },
     "execution_count": 3,
     "metadata": {},
     "output_type": "execute_result"
    }
   ],
   "source": [
    "import tools\n",
    "print(dir(tools))\n",
    "x=numpy.arange(20)\n",
    "tools.embed(x, 2, 1)"
   ]
  },
  {
   "cell_type": "code",
   "execution_count": 4,
   "metadata": {},
   "outputs": [],
   "source": [
    "def print_result(message, value_from_function):\n",
    "#    time1=time()\n",
    "#    value_from_function=function\n",
    "#    time2=time()-time1\n",
    "    print(message, \"\\t%2.5f\" %value_from_function, end=\"\")\n",
    "    tmp=entropy.get_last_info()\n",
    "    print(\" +/- %2.5f (%d effective points, %d errors)\" %(tmp[0], tmp[3], tmp[2]), end=\"\")"
   ]
  },
  {
   "cell_type": "code",
   "execution_count": 5,
   "metadata": {},
   "outputs": [],
   "source": [
    "def print_result_2(message, value_from_function):\n",
    "#    time1=time()\n",
    "#    value_from_function=function\n",
    "#    time2=time()-time1\n",
    "    print(message, \"\\t%2.5f, %2.5f\" %(value_from_function[0], value_from_function[1]), end=\"\")\n",
    "    tmp=entropy.get_last_info()\n",
    "    print(\" +/- %2.5f (%d effective points, %d errors)\" %(tmp[0], tmp[3], tmp[2]), end=\"\")"
   ]
  },
  {
   "cell_type": "markdown",
   "metadata": {},
   "source": [
    "## Exemples sur des images\n",
    "\n",
    "Les cellules ci-dessous illustrent l'utilisation de la ibrairie sur des images de scalaires.\n",
    "Pour l'utilisation de la librairie sur des signaux temporels multi-dimensionnels, et notamment comment définir un vecteur multi-dimensionnel respectant les conventions du code cython, voir le notebook \"test-code-suite\""
   ]
  },
  {
   "cell_type": "code",
   "execution_count": 6,
   "metadata": {},
   "outputs": [
    {
     "name": "stdout",
     "output_type": "stream",
     "text": [
      "[[ 0. 10. 20. 30.]\n",
      " [ 1. 11. 21. 31.]\n",
      " [ 2. 12. 22. 32.]\n",
      " [ 3. 13. 23. 33.]\n",
      " [ 4. 14. 24. 34.]\n",
      " [ 5. 15. 25. 35.]\n",
      " [ 6. 16. 26. 36.]\n",
      " [ 7. 17. 27. 37.]\n",
      " [ 8. 18. 28. 38.]\n",
      " [ 9. 19. 29. 39.]]\n",
      "\n",
      "entropy 2d: \t5.36545 +/- 0.00000 (32 effective points, 0 errors)"
     ]
    }
   ],
   "source": [
    "Nx=10\n",
    "Ny=4\n",
    "\n",
    "# well-indexxed data:\n",
    "x = numpy.zeros((Nx,Ny), dtype=\"float\")\n",
    "for k in numpy.arange(Nx):\n",
    "    x[k,:] = x[k,:] + 1*k\n",
    "for k in numpy.arange(Ny):\n",
    "    x[:,k] = x[:,k] + 10*k\n",
    "    \n",
    "mx = 2\n",
    "my = 1\n",
    "stride=2\n",
    "\n",
    "print(x)\n",
    "\n",
    "#print_result(\"\\nentropy 1d:\", entropy.compute_entropy(x, mx, stride=stride))\n",
    "print_result(\"\\nentropy 2d:\", entropy.compute_entropy_2d(x, mx, my, stride=stride, k=1))"
   ]
  },
  {
   "cell_type": "code",
   "execution_count": 16,
   "metadata": {},
   "outputs": [
    {
     "name": "stdout",
     "output_type": "stream",
     "text": [
      "\n",
      "entropy 1d:\t \t2.84090 +/- 0.00366 (9998 effective points, 0 errors)\n",
      "entropy 2d (1,1): \t1.40290 +/- 0.02423 (10000 effective points, 0 errors)\n",
      "entropy 2d (2,1): \t2.85245 +/- 0.06074 (9800 effective points, 0 errors)\n",
      "entropy 2d (1,2): \t2.83420 +/- 0.02159 (9800 effective points, 0 errors)\n",
      "entropy 2d (2,2): \t4.24516 +/- 0.06860 (9604 effective points, 0 errors)"
     ]
    }
   ],
   "source": [
    "Nx=100\n",
    "Ny=100\n",
    "\n",
    "# white noise\n",
    "x=normal(loc = 0., scale=1, size=(Nx,Ny))\n",
    "#for k in numpy.arange(Ny):\n",
    "#    x[:,k] = x[:,k] + k\n",
    "\n",
    "mx = 2\n",
    "my = 1\n",
    "stride=2\n",
    "\n",
    "print_result(\"\\nentropy 1d:\\t\", entropy.compute_entropy(tools.reorder(x.flatten()), mx, stride=stride))\n",
    "print_result(\"\\nentropy 2d (1,1):\", entropy.compute_entropy_2d(x, 1, 1, stride=stride, k=1))\n",
    "print_result(\"\\nentropy 2d (2,1):\", entropy.compute_entropy_2d(x, 2, 1, stride=stride, k=1))\n",
    "print_result(\"\\nentropy 2d (1,2):\", entropy.compute_entropy_2d(x, 1, 2, stride=stride, k=1))\n",
    "print_result(\"\\nentropy 2d (2,2):\", entropy.compute_entropy_2d(x, 2, 2, stride=stride, k=1))"
   ]
  },
  {
   "cell_type": "code",
   "execution_count": 13,
   "metadata": {},
   "outputs": [
    {
     "name": "stdout",
     "output_type": "stream",
     "text": [
      "Help on built-in function compute_entropy_2d in module entropy:\n",
      "\n",
      "compute_entropy_2d(...)\n",
      "    H = compute_entropy_2d(x, [n_embed_x=1, n_embed_y=1, stride=1, k])\n",
      "    \n",
      "    computes entropy of a scalar image\n",
      "    using nearest neighbors search with ANN library.\n",
      "    embedding is performed on the fly.\n",
      "    \n",
      "    x         : signal (NumPy array with ndim=2)\n",
      "    n_embed_x : embedding dimension alng the x-dimension (default=1)\n",
      "    n_embed_y : embedding dimension alng the y-dimension (default=1)\n",
      "    stride    : stride (Theiler correction will be used accordingly, even if n_embed_x,y=1) (default=1)\n",
      "    k         : number of neighbors to consider (typically 7 or 10) (default=5)\n",
      "\n"
     ]
    }
   ],
   "source": [
    "help(entropy.compute_entropy_2d)"
   ]
  },
  {
   "cell_type": "markdown",
   "metadata": {},
   "source": [
    "# Library semantics"
   ]
  },
  {
   "cell_type": "code",
   "execution_count": null,
   "metadata": {},
   "outputs": [],
   "source": [
    "ann.choose_algorithm(1|2|0x0100)  # new C algorithm, using ANN search\n",
    "#ann.choose_algorithm(1|2|0x000)  @ old C algorithm, using NG search\n",
    "\n",
    "help(entropy.choose_algorithm)"
   ]
  },
  {
   "cell_type": "markdown",
   "metadata": {},
   "source": [
    "# Entropie de Shannon et de Renyi"
   ]
  },
  {
   "cell_type": "code",
   "execution_count": null,
   "metadata": {},
   "outputs": [],
   "source": [
    "# testing the Shannon entropy (Cython vs pure Python codes)\n",
    "#\n",
    "# parameters\n",
    "npoints = 100000\n",
    "ndim  = 1\n",
    "sigma = 1.\n",
    "k     = 5\n",
    "m_embed = 2\n",
    "stride  = 10\n",
    "\n",
    "# expected data is of size (npts,m), i.e., the time dimension is the first one\n",
    "data = normal(loc = 1.0, scale=sigma, size=(ndim, npoints));\n",
    "\n",
    "print(\"normal distribution, \", npoints, \"points,\", ndim, \"dimensions.\")\n",
    "print(\"Theoretical entropy :        H=\", 0.5*numpy.log((2.*pi*numpy.exp(1)*sigma**2.)**ndim))\n",
    "\n",
    "# \"Pure python with cKDTree : \"\n",
    "t1=time()\n",
    "res=entropy_nns(data, k)\n",
    "t1=time()-t1;\n",
    "print(\"Pure Python (with cKDTree) : H=\", res, \"\\t\\tTime :\",t1)\n",
    "\n",
    "# \"ANN with Cython : \"\n",
    "t1=time()\n",
    "res=ann.compute_entropy(data.T, m_embed, stride, k)\n",
    "t1=time()-t1;\n",
    "print(\"Cython code old            : H=\", res, \"\\t\\tTime :\",t1)\n",
    "t1=time()\n",
    "res=entropy.compute_entropy(data, m_embed, stride, k)\n",
    "t1=time()-t1;\n",
    "print(\"Cython code new            : H=\", res, \"\\t\\tTime :\",t1)\n",
    "\n",
    "entropy.get_last_info(1)\n",
    "H_S=res"
   ]
  },
  {
   "cell_type": "code",
   "execution_count": null,
   "metadata": {},
   "outputs": [],
   "source": [
    "# entropy with bins (histograms)\n",
    "npoints = 100\n",
    "m_embed = 1\n",
    "stride=1\n",
    "\n",
    "data = normal(loc = 1.0, scale=sigma, size=(ndim, npoints));\n",
    "\n",
    "t1=time()\n",
    "res=entropy.compute_entropy_bin(data, m_embed, stride, 101)\n",
    "t1=time()-t1;\n",
    "print(\"entropy bins               : H=\", res, \"\\t\\tTime :\",t1)\n",
    "entropy.get_last_info(1)\n",
    "print(\"\")\n",
    "\n",
    "t1=time()\n",
    "res=entropy.compute_entropy_bin(data, m_embed, stride)\n",
    "t1=time()-t1;\n",
    "print(\"entropy bins               : H=\", res, \"\\t\\tTime :\",t1)\n",
    "entropy.get_last_info(1)"
   ]
  },
  {
   "cell_type": "code",
   "execution_count": null,
   "metadata": {},
   "outputs": [],
   "source": [
    "# testing Renyi entropy:\n",
    "q=2.0\n",
    "\n",
    "print(\"Theoretical Renyi entropy  : H=\", 0.5*numpy.log((2.*pi*numpy.exp(1)*sigma**2.)**ndim) +(numpy.log(2)-1.)/2.)\n",
    "\n",
    "t1=time()\n",
    "res=ann.compute_entropy_Renyi(data, q, m_embed, stride, k)\n",
    "t1=time()-t1;\n",
    "print(\"Cython code old            : H=\", res, \"\\t\\tTime :\",t1)\n",
    "print(\"Shannon + (log(2)-1)/2     : H=\", H_S+(numpy.log(2)-1.)/2.)\n",
    "t1=time()\n",
    "res=entropy.compute_entropy_Renyi(data, q, m_embed, stride, k)\n",
    "t1=time()-t1;\n",
    "print(\"Cython code new            : H=\", res, \"\\t\\tTime :\",t1)\n"
   ]
  },
  {
   "cell_type": "markdown",
   "metadata": {},
   "source": [
    "# Entropy rate / taux d'entropie"
   ]
  },
  {
   "cell_type": "code",
   "execution_count": null,
   "metadata": {},
   "outputs": [],
   "source": [
    "# testing entropy rate with data from CML\n",
    "#help(ann.compute_entropy_rate)\n",
    "data = numpy.fromfile(\"../cml-test.dat\", dtype=float, count=-1)\n",
    "x = data[0::2]\n",
    "y = data[1::2]\n",
    "x = x.reshape((1,x.size)).copy()\n",
    "y = y.reshape((1,y.size)).copy()\n",
    "\n",
    "# or with Gaussian noise:\n",
    "npts    = 10000\n",
    "ndim_x  = 1\n",
    "sigma_x = 1.0\n",
    "x = normal(loc = 0.0, scale=sigma_x, size=(ndim_x, npts));\n",
    "\n",
    "m=5\n",
    "stride=10\n",
    "\n",
    "t1=time()\n",
    "print(\"old cython code:\")\n",
    "print(\"h(x) = \", ann.compute_entropy_rate(x, m=m, stride=stride, method=0), \" or \", \n",
    "                  ann.compute_entropy_rate(x, m=m, stride=stride), \" or \", \n",
    "                  ann.compute_entropy_rate(x, m=m, stride=stride, method=2));\n",
    "print(\"h(y) = \", ann.compute_entropy_rate(y, m=m, stride=stride, method=0), \" or \", \n",
    "                  ann.compute_entropy_rate(y, m=m, stride=stride), \" or \", \n",
    "                  ann.compute_entropy_rate(y, m=m, stride=stride, method=2));\n",
    "t1=time()-t1\n",
    "print(\"elapsed time : \",t1,\"\\n\")\n",
    "\n",
    "t1=time()\n",
    "print(\"new cython code:\")\n",
    "print(\"h(x) = \", entropy.compute_entropy_rate(x, m=m, stride=stride, method=0), \" or \", \n",
    "                  entropy.compute_entropy_rate(x, m=m, stride=stride), \" or \", \n",
    "                  entropy.compute_entropy_rate(x, m=m, stride=stride, method=2));\n",
    "print(\"h(y) = \", entropy.compute_entropy_rate(y, m=m, stride=stride, method=0), \" or \", \n",
    "                  entropy.compute_entropy_rate(y, m=m, stride=stride), \" or \", \n",
    "                  entropy.compute_entropy_rate(y, m=m, stride=stride, method=2));\n",
    "t1=time()-t1\n",
    "print(\"elapsed time : \",t1)"
   ]
  },
  {
   "cell_type": "markdown",
   "metadata": {},
   "source": [
    "# Relative entropy"
   ]
  },
  {
   "cell_type": "code",
   "execution_count": null,
   "metadata": {},
   "outputs": [],
   "source": [
    "# testing relative entropy\n",
    "ndim_x = 1\n",
    "ndim_y = 1\n",
    "npoints = 20000\n",
    "npoints_x = npoints\n",
    "npoints_y = 2*npoints\n",
    "sigma_x=1.\n",
    "sigma_y=2.\n",
    "k = 5\n",
    "n_embed_x = 1\n",
    "n_embed_y = 1\n",
    "stride  = 1\n",
    "\n",
    "x = normal(loc = 1.0, scale=sigma_x, size=(ndim_x, npoints_x));\n",
    "y = normal(loc = 1.0, scale=sigma_y, size=(ndim_y, npoints_y));\n",
    "\n",
    "print(\"theoretical relative entropy : H=\", 1./2.*ndim_y*n_embed_y*(numpy.log(2.*pi*sigma_y**2) + (sigma_x/sigma_y)**2))\n",
    "print(\"theoretical opposite         : H=\", 1./2.*ndim_x*n_embed_x*(numpy.log(2.*pi*sigma_x**2) + (sigma_y/sigma_x)**2))\n",
    "print(\"\")\n",
    "\n",
    "t1=time()\n",
    "res = ann.compute_relative_entropy(x, y, n_embed_x, n_embed_y, stride, method=0, k=k)\n",
    "t1=time()-t1\n",
    "print(\"nns estimate (old Cython)    : H=\", res,\"\\tTime: \", t1)\n",
    "\n",
    "t1=time()\n",
    "res = ann.compute_relative_entropy(y, x, n_embed_y, n_embed_x, stride, method=0, k=k)\n",
    "t1=time()-t1\n",
    "print(\"nns opposite (old Cython)    : H=\", res,\"\\tTime: \", t1)\n",
    "print(\"\")\n",
    "\n",
    "t1=time()\n",
    "res = entropy.compute_relative_entropy(x, y, n_embed_x, n_embed_y, stride, method=0, k=k)\n",
    "t1=time()-t1\n",
    "print(\"nns estimate (new Cython)    : H=\", res,\"\\tTime: \", t1)\n",
    "\n",
    "t1=time()\n",
    "res = entropy.compute_relative_entropy(y, x, n_embed_y, n_embed_x, stride, method=0, k=k)\n",
    "t1=time()-t1\n",
    "print(\"nns opposite (new Cython)    : H=\", res,\"\\tTime: \", t1)\n",
    "\n"
   ]
  },
  {
   "cell_type": "code",
   "execution_count": null,
   "metadata": {},
   "outputs": [],
   "source": [
    "H =entropy.compute_entropy         (x,    n_embed=1,                stride=stride,           k=5)\n",
    "Hr=entropy.compute_relative_entropy(x, x, n_embed_y=1, n_embed_x=1, stride=stride, method=0, k=5)\n",
    "print(H)\n",
    "print(Hr)"
   ]
  },
  {
   "cell_type": "markdown",
   "metadata": {},
   "source": [
    "# Mutual information\n",
    "first cell: CML data\n",
    "\n",
    "second cell: Gaussian white noise"
   ]
  },
  {
   "cell_type": "code",
   "execution_count": null,
   "metadata": {},
   "outputs": [],
   "source": [
    "# testing mutual information with data from CML\n",
    "data = numpy.fromfile(\"../cml-test.dat\", dtype=float, count=-1)\n",
    "x = data[0::2]\n",
    "y = data[1::2]\n",
    "x = x.reshape((1,x.size)).copy()\n",
    "y = y.reshape((1,y.size)).copy()\n",
    "\n",
    "ann.choose_algorithm(1|2) # returning both algos\n",
    "entropy.choose_algorithm(1|2) # returning both algos\n",
    "\n",
    "print(\"Cython (old)\")\n",
    "t1=time()\n",
    "print(\"MI(y,x) = \", ann.compute_MI(x,y), end=\"\\t\")\n",
    "t1=time()-t1\n",
    "print(\"time = \", t1)\n",
    "t1=time()\n",
    "print(\"MI(x,y) = \", ann.compute_MI(y,x), end=\"\\t\")\n",
    "t1=time()-t1\n",
    "print(\"time = \", t1)\n",
    "\n",
    "print(\"Cython (new)\")\n",
    "t1=time()\n",
    "print(\"MI(y,x) = \", entropy.compute_MI(x,y), end=\"\\t\")\n",
    "t1=time()-t1\n",
    "print(\"time = \", t1)\n",
    "t1=time()\n",
    "print(\"MI(x,y) = \", entropy.compute_MI(y,x), end=\"\\t\")\n",
    "t1=time()-t1\n",
    "print(\"time = \", t1)\n"
   ]
  },
  {
   "cell_type": "code",
   "execution_count": null,
   "metadata": {},
   "outputs": [],
   "source": [
    "# testing Mutual information with Gaussian white noise\n",
    "npoints = 10000\n",
    "ndim    = 2\n",
    "sigma_x = 1.\n",
    "x = normal(loc = 0., scale=sigma_x, size=(ndim, npoints));\n",
    "y = 2.*x + normal(loc = 1.0, scale=sigma_x/10, size=(ndim, npoints));\n",
    "\n",
    "c = numpy.corrcoef(x,y,rowvar=False)\n",
    "print(\"c(x,y) = \", c[0,1],\"\\t theo. MI = \", -0.5*numpy.log(numpy.linalg.det(c)))\n",
    "\n",
    "ann.choose_algorithm(1|2)\n",
    "entropy.choose_algorithm(1|2)\n",
    "\n",
    "t1=time()\n",
    "print(\"MI(x,y) = \", ann.compute_MI(x,y), end=\"\\t\")\n",
    "t1=time()-t1\n",
    "print(\"time = \", t1, \"(old c algo, old cython)\")\n",
    "\n",
    "t1=time()\n",
    "ann.choose_algorithm(1|2|0x0100)\n",
    "print(\"MI(y,x) = \", ann.compute_MI(y,x), end=\"\\t\")\n",
    "t1=time()-t1\n",
    "print(\"time = \", t1, \"(new c algo, old cython)\")\n",
    "\n",
    "t1=time()\n",
    "print(\"MI(x,y) = \", entropy.compute_MI(x,y), end=\"\\t\")\n",
    "t1=time()-t1\n",
    "print(\"time = \", t1, \"(old c algo, new cython)\")\n",
    "t1=time()\n",
    "print(\"MI(y,x) = \", entropy.compute_MI(y,x), end=\"\\t\")\n",
    "t1=time()-t1\n",
    "print(\"time = \", t1, \"(old c algo, new cython)\")\n",
    "\n",
    "t1=time()\n",
    "entropy.choose_algorithm(1|2|0x0100)\n",
    "print(\"MI(y,x) = \", entropy.compute_MI(y,x), end=\"\\t\")\n",
    "t1=time()-t1\n",
    "print(\"time = \", t1, \"(new c algo, new cython)\")\n"
   ]
  },
  {
   "cell_type": "markdown",
   "metadata": {},
   "source": [
    "# Transfer entropy and directed information"
   ]
  },
  {
   "cell_type": "code",
   "execution_count": null,
   "metadata": {},
   "outputs": [],
   "source": [
    "# testing transfer entropy with data from CML\n",
    "data = numpy.fromfile(\"../cml-test.dat\", dtype=float, count=-1)\n",
    "x = data[0::2]\n",
    "y = data[1::2]\n",
    "x = x.reshape((1,x.size)).copy()\n",
    "y = y.reshape((1,y.size)).copy()\n",
    "\n",
    "lag=1\n",
    "\n",
    "ann.choose_algorithm(1|2)\n",
    "print(\"legacy counting, old cython:\")\n",
    "t1=time()\n",
    "print(\"TE y->x : \", ann.compute_TE(x,y, stride=1, lag=lag), \"\\t (time : \",time()-t1,\")\")\n",
    "t1=time()\n",
    "print(\"TE x->y : \", ann.compute_TE(y,x, stride=1, lag=lag), \"\\t (time : \",time()-t1,\")\")\n",
    "\n",
    "ann.choose_algorithm(1|2|0x0100)\n",
    "print(\"ANN counting:, old cython\")\n",
    "t1=time()\n",
    "print(\"TE y->x : \", ann.compute_TE(x,y, stride=1, lag=lag), \"\\t (time : \",time()-t1,\")\")\n",
    "t1=time()\n",
    "print(\"TE x->y : \", ann.compute_TE(y,x, stride=1, lag=lag), \"\\t (time : \",time()-t1,\")\")\n",
    "\n",
    "entropy.choose_algorithm(1|2)\n",
    "print(\"legacy counting, new cython:\")\n",
    "t1=time()\n",
    "print(\"TE y->x : \", entropy.compute_TE(x,y, stride=1, lag=lag), \"\\t (time : \",time()-t1,\")\")\n",
    "t1=time()\n",
    "print(\"TE x->y : \", entropy.compute_TE(y,x, stride=1, lag=lag), \"\\t (time : \",time()-t1,\")\")\n",
    "\n",
    "entropy.choose_algorithm(1|2|0x0100)\n",
    "print(\"ANN counting:, new cython\")\n",
    "t1=time()\n",
    "print(\"TE y->x : \", entropy.compute_TE(x,y, stride=1, lag=lag), \"\\t (time : \",time()-t1,\")\")\n",
    "t1=time()\n",
    "print(\"TE x->y : \", entropy.compute_TE(y,x, stride=1, lag=lag), \"\\t (time : \",time()-t1,\")\")\n"
   ]
  },
  {
   "cell_type": "code",
   "execution_count": null,
   "metadata": {},
   "outputs": [],
   "source": [
    "# testing transfer entropy with Gaussian white noise\n",
    "npoints = 10000\n",
    "ndim    = 1\n",
    "sigma_x = 1.\n",
    "x = normal(loc = 0., scale=sigma_x, size=(ndim, npoints));\n",
    "y = 2.*x + normal(loc = 1.0, scale=sigma_x/10, size=(ndim, npoints));\n",
    "\n",
    "lag=1\n",
    "\n",
    "ann.choose_algorithm(1|2)\n",
    "print(\"legacy counting:, old cython\")\n",
    "t1=time()\n",
    "print(\"TE y->x : \", ann.compute_TE(x,y, stride=1, lag=lag), \"\\t (time : \",time()-t1,\")\")\n",
    "t1=time()\n",
    "print(\"TE x->y : \", ann.compute_TE(y,x, stride=1, lag=lag), \"\\t (time : \",time()-t1,\")\")\n",
    "t1=time()\n",
    "print(\"MI(x,y) : \", ann.compute_MI(x,y, stride=10),         \"\\t (time : \",time()-t1,\")\")\n",
    "\n",
    "ann.choose_algorithm(1|2|0x0100)\n",
    "print(\"ANN counting:, old cython\")\n",
    "t1=time()\n",
    "print(\"TE y->x : \", ann.compute_TE(x,y, stride=1, lag=lag), \"\\t (time : \",time()-t1,\")\")\n",
    "t1=time()\n",
    "print(\"TE x->y : \", ann.compute_TE(y,x, stride=1, lag=lag), \"\\t (time : \",time()-t1,\")\")\n",
    "t1=time()\n",
    "print(\"MI(x,y) : \", ann.compute_MI(x,y, stride=10),         \"\\t (time : \",time()-t1,\")\")\n",
    "\n",
    "print\n",
    "\n",
    "entropy.choose_algorithm(1|2)\n",
    "print(\"legacy counting:, new cython\")\n",
    "t1=time()\n",
    "print(\"TE y->x : \", entropy.compute_TE(x,y, stride=1, lag=lag), \"\\t (time : \",time()-t1,\")\")\n",
    "t1=time()\n",
    "print(\"TE x->y : \", entropy.compute_TE(y,x, stride=1, lag=lag), \"\\t (time : \",time()-t1,\")\")\n",
    "t1=time()\n",
    "print(\"MI(x,y) : \", entropy.compute_MI(x,y, stride=10),         \"\\t (time : \",time()-t1,\")\")\n",
    "\n",
    "entropy.choose_algorithm(1|2|0x0100)\n",
    "print(\"ANN counting:, new cython\")\n",
    "t1=time()\n",
    "print(\"TE y->x : \", entropy.compute_TE(x,y, stride=1, lag=lag), \"\\t (time : \",time()-t1,\")\")\n",
    "t1=time()\n",
    "print(\"TE x->y : \", entropy.compute_TE(y,x, stride=1, lag=lag), \"\\t (time : \",time()-t1,\")\")\n",
    "t1=time()\n",
    "print(\"MI(x,y) : \", entropy.compute_MI(x,y, stride=10),         \"\\t (time : \",time()-t1,\")\")"
   ]
  },
  {
   "cell_type": "markdown",
   "metadata": {},
   "source": [
    "# Masks"
   ]
  },
  {
   "cell_type": "markdown",
   "metadata": {},
   "source": [
    "la cellule ci-dessous teste la fabrication des masques"
   ]
  },
  {
   "cell_type": "code",
   "execution_count": null,
   "metadata": {},
   "outputs": [],
   "source": [
    "npoints = 12\n",
    "ndim    = 1\n",
    "sigma_x = 1.\n",
    "x = normal(loc = 0., scale=sigma_x, size=(ndim, npoints))+0.8;\n",
    "print(\"x is\", x.shape)\n",
    "\n",
    "ind_p = numpy.where(x>0);\n",
    "ind_m = numpy.where(x<0);\n",
    "    \n",
    "y_p = tools.reorder(x[ind_p])\n",
    "print(\"y_p:\\n\",y_p)\n",
    "y_m = tools.reorder(x[ind_m])\n",
    "print(\"+ and - :\", y_p.shape, y_m.shape)\n",
    "#print(numpy.array(ind_p).shape)\n",
    "\n",
    "mask_nan = tools.mask_finite(x)\n",
    "print(\"mask_Nan is of shape\", mask_nan.shape, \"and type\", mask_nan.dtype)\n",
    "\n",
    "mask_p = (x>0).astype('i1')\n",
    "print(\"mask_p is of shape\", mask_p.shape, \"and type\", mask_p.dtype)\n",
    "print(x)\n",
    "print(mask_p)\n",
    "mask_p = tools.mask_clean(mask_p)\n",
    "print(mask_p)\n",
    "print()\n",
    "print(y_p)"
   ]
  },
  {
   "cell_type": "code",
   "execution_count": null,
   "metadata": {},
   "outputs": [],
   "source": [
    "# prepare and test a dataset with NaN points\n",
    "npoints = 8000\n",
    "nNaN    = 1000\n",
    "ndim    = 1\n",
    "sigma_x = 1.\n",
    "x = normal(loc = 0., scale=sigma_x, size=(ndim, npoints));\n",
    "print(\"testing on data with %d points, including %d NaN\\n\" %(npoints, nNaN))\n",
    "print(\"x (full, no NaN):\\t\", entropy.compute_entropy(x))\n",
    "\n",
    "m      = 1\n",
    "stride = 2\n",
    "\n",
    "NaN_ind = numpy.random.randint(0, npoints, nNaN)\n",
    "x[0,NaN_ind] = numpy.nan\n",
    "\n",
    "time1=time()\n",
    "mask_good = tools.mask_finite(x)\n",
    "print(\"tools (python):  \", time()-time1)\n",
    "print(mask_good.dtype)\n",
    "#print(dir(entropy))\n",
    "time1=time()\n",
    "mask_g2 = entropy.mask_finite(x)\n",
    "print(\"entropy (cython):\", time()-time1)\n",
    "print(mask_g2.dtype)\n",
    "ma=numpy.max(mask_good-mask_g2)\n",
    "mi=numpy.min(mask_good-mask_g2)\n",
    "print(\"%d and %d should be 0\" %(ma, mi))\n",
    "\n",
    "print(\"x (full, no mask):\\t\", entropy.compute_entropy(x), end=\"\")\n",
    "tmp=entropy.get_last_info()\n",
    "print(\"\\t(%d effective points, %d errors)\" %(tmp[3], tmp[2]))\n",
    "\n",
    "print(\"x masked, tau=1:\\t\",   entropy.compute_entropy(x, m, 1, mask=mask_good), end=\"\")\n",
    "tmp=entropy.get_last_info()\n",
    "print(\"\\t(%d effective points, %d errors)\" %(tmp[3], tmp[2]))\n",
    "\n",
    "print(\"x masked, tau=2:\\t\",   entropy.compute_entropy(x, m, 2, mask=mask_good), end=\"\")\n",
    "tmp=entropy.get_last_info()\n",
    "print(\"\\t(%d effective points, %d errors)\" %(tmp[3], tmp[2]))\n",
    "      "
   ]
  },
  {
   "cell_type": "code",
   "execution_count": null,
   "metadata": {},
   "outputs": [],
   "source": [
    "m=2 # embedding\n",
    "stride=2\n",
    "\n",
    "entropy.choose_algorithm(KSG_algo=1, version=0, mask=2) # conservative masks\n",
    "print(\"x (full):\\t\", entropy.compute_entropy(x))\n",
    "print(\"x>0:\\t\\t\",    entropy.compute_entropy(y_p)) # OK for embedding 1 only!\n",
    "print(\"x>0:\\t\\t\",    entropy.compute_entropy(y_p, 2)) # OK for embedding 1 only, so this is wrong!\n",
    "\n",
    "S=0.\n",
    "for i in numpy.arange(stride):\n",
    "    y=tools.embed(x, m, stride, i)\n",
    "    mask_embed = tools.embed(mask_p, m, stride, i) # new mask for embedded data\n",
    "#    print(mask_embed)\n",
    "    mask_embed = tools.mask_clean(mask_embed)     # project into 1 dimension\n",
    "#    print(mask_embed)\n",
    "    ind = numpy.where(mask_embed>0)[0]\n",
    "#    print(ind)\n",
    "    y_i = reorder(y[:,ind]).copy()\n",
    "#    print(y_i.shape)\n",
    "    S += entropy.compute_entropy(y_i)\n",
    "S/=stride\n",
    "\n",
    "print(\"manual mask:\\t\", S)\n",
    "print(\"x mask cons.:\\t\", entropy.compute_entropy(x, 2, stride, mask=mask_p))\n",
    "entropy.choose_algorithm(KSG_algo=1, version=0, mask=1) # optimized maskss\n",
    "print(\"x mask optim.:\\t\", entropy.compute_entropy(x, 2, stride, mask=mask_p))\n",
    "entropy.get_last_info()"
   ]
  },
  {
   "cell_type": "code",
   "execution_count": null,
   "metadata": {},
   "outputs": [],
   "source": [
    "help(entropy.compute_entropy)"
   ]
  },
  {
   "cell_type": "markdown",
   "metadata": {},
   "source": [
    "## others"
   ]
  },
  {
   "cell_type": "code",
   "execution_count": null,
   "metadata": {},
   "outputs": [],
   "source": [
    "# signal x must be of shape (n, npts) (new convention)\n",
    "def FIR_filter(x, T_integration):\n",
    "    ''' function to filter in time (low pass) by local averaging :\n",
    "    '''\n",
    "    stride_f = T_integration*0.8 # overlap\n",
    "    stride = int(stride_f)\n",
    "    \n",
    "    x_f = x[0,0:-1-T_integration];\n",
    "    for i in range(1,T_integration):\n",
    "        x_f  = x_f + x[0,i:-1-T_integration+i];\n",
    "    x_f = x_f / T_integration;\n",
    "           \n",
    "    return tools.reorder(x_f)"
   ]
  },
  {
   "cell_type": "code",
   "execution_count": null,
   "metadata": {},
   "outputs": [],
   "source": [
    "Fig   = plt.figure(figsize=(8,5))\n",
    "P1    = Fig.add_subplot(1,1,1)\n",
    "\n",
    "#y = FIR_filter(P, 10)\n",
    "P1.plot(t,P)\n",
    "#P1.plot(t[:y.shape[0]],y)\n",
    "mt=4.\n",
    "P1.set_xlim(-mt-0.5,-mt)"
   ]
  },
  {
   "cell_type": "code",
   "execution_count": null,
   "metadata": {},
   "outputs": [],
   "source": [
    "entropy.get_last_info(1)"
   ]
  },
  {
   "cell_type": "markdown",
   "metadata": {},
   "source": [
    "# ApEn and SampEn"
   ]
  },
  {
   "cell_type": "code",
   "execution_count": null,
   "metadata": {},
   "outputs": [],
   "source": [
    "# testing complexity measures\n",
    "#\n",
    "# parameters\n",
    "npoints = 20000\n",
    "ndim  = 1\n",
    "sigma = 1.\n",
    "r     = 0.2\n",
    "n_embed = 2\n",
    "stride  = 10\n",
    "\n",
    "x = normal(loc = 0., scale=sigma, size=(ndim, npoints))+0.8;\n",
    "print(\"x is\", x.shape)\n",
    "print(\"r = %f\" %r)\n",
    "print(\"-log(2r) = %f\" %(-numpy.log(2.*r)))\n",
    "ApEn, SampEn =entropy.compute_complexities(x, n_embed=n_embed, r=r)\n",
    "print(\"\")\n",
    "print(\"ApEn   =\", ApEn)\n",
    "print(\"SampEn =\", SampEn)\n",
    "h1=entropy.compute_entropy_rate(x, 1, stride)\n",
    "h2=entropy.compute_entropy_rate(x, 2, stride)\n",
    "h3=entropy.compute_entropy_rate(x, 3, stride)\n",
    "h4=entropy.compute_entropy_rate(x, 4, stride)\n",
    "print(\"(entropy rate m=1 : %f)\" %h1, \"-log(2r) = \", h1-numpy.log(2.*r))\n",
    "print(\"(entropy rate m=2 : %f)\" %h2, \"-log(2r) = \", h2-numpy.log(2.*r))\n",
    "print(\"(entropy rate m=3 : %f)\" %h3, \"-log(2r) = \", h3-numpy.log(2.*r))\n",
    "print(\"(entropy rate m=3 : %f)\" %h4, \"-log(2r) = \", h4-numpy.log(2.*r))"
   ]
  },
  {
   "cell_type": "code",
   "execution_count": null,
   "metadata": {},
   "outputs": [],
   "source": [
    "y = FIR_filter(x, 5)\n",
    "stride=50\n",
    "print(\"y is\", y.shape)\n",
    "print(\"r = %f\" %r)\n",
    "print(\"-log(2r) = %f\" %(-numpy.log(2.*r)))\n",
    "ApEn, SampEn =entropy.compute_complexities(y, n_embed=n_embed, r=r)\n",
    "print(\"\")\n",
    "print(\"ApEn   =\", ApEn)\n",
    "print(\"SampEn =\", SampEn)\n",
    "h1=entropy.compute_entropy_rate(y, 1, stride)\n",
    "h2=entropy.compute_entropy_rate(y, 2, stride)\n",
    "h3=entropy.compute_entropy_rate(y, 3, stride)\n",
    "h4=entropy.compute_entropy_rate(y, 4, stride)\n",
    "print(\"(entropy rate m=1 : %f)\" %h1, \"-log(2r) = \", h1-numpy.log(2.*r))\n",
    "print(\"(entropy rate m=2 : %f)\" %h2, \"-log(2r) = \", h2-numpy.log(2.*r))\n",
    "print(\"(entropy rate m=3 : %f)\" %h3, \"-log(2r) = \", h3-numpy.log(2.*r))\n",
    "print(\"(entropy rate m=3 : %f)\" %h4, \"-log(2r) = \", h4-numpy.log(2.*r))"
   ]
  },
  {
   "cell_type": "code",
   "execution_count": null,
   "metadata": {},
   "outputs": [],
   "source": []
  }
 ],
 "metadata": {
  "kernelspec": {
   "display_name": "Python 3",
   "language": "python",
   "name": "python3"
  },
  "language_info": {
   "codemirror_mode": {
    "name": "ipython",
    "version": 3
   },
   "file_extension": ".py",
   "mimetype": "text/x-python",
   "name": "python",
   "nbconvert_exporter": "python",
   "pygments_lexer": "ipython3",
   "version": "3.7.7"
  }
 },
 "nbformat": 4,
 "nbformat_minor": 2
}
